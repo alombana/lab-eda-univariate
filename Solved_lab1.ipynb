{
 "cells": [
  {
   "cell_type": "code",
   "execution_count": null,
   "id": "7e9c7901",
   "metadata": {},
   "outputs": [],
   "source": [
    "import pandas as pd\n",
    "import matplotlib.pyplot as plt\n",
    "import seaborn as sns\n",
    "import numpy as np\n"
   ]
  },
  {
   "cell_type": "code",
   "execution_count": null,
   "id": "0d14697f",
   "metadata": {},
   "outputs": [],
   "source": [
    "data=pd.read_csv(\"/Users/angie/Documents/Ironhack/labs/Unit5/lab1/amz_uk_price_prediction_dataset.csv\")"
   ]
  },
  {
   "cell_type": "code",
   "execution_count": null,
   "id": "fdf0e85a",
   "metadata": {
    "scrolled": true
   },
   "outputs": [],
   "source": [
    "data"
   ]
  },
  {
   "cell_type": "markdown",
   "id": "8b05bfb3",
   "metadata": {},
   "source": [
    "# Part 1: Understanding Product Categories\n",
    "Business Question: What are the most popular product categories on Amazon UK, and how do they compare in terms of listing frequency?"
   ]
  },
  {
   "cell_type": "markdown",
   "id": "02230e87",
   "metadata": {},
   "source": [
    "1. Frequency Tables:\n",
    "\n",
    "* Generate a frequency table for the product category.\n",
    "\n",
    "* Which are the top 5 most listed product categories?\n",
    "    - The top 5 most listed product are:\n",
    "        Sports & Outdoors                         \n",
    "        Beauty                                    \n",
    "        Handmade Clothing, Shoes & Accessories    \n",
    "        Bath & Body                               \n",
    "        Birthday Gifts    "
   ]
  },
  {
   "cell_type": "code",
   "execution_count": null,
   "id": "5d64a470",
   "metadata": {},
   "outputs": [],
   "source": [
    "category_counts=data.category.value_counts()\n",
    "category_counts"
   ]
  },
  {
   "cell_type": "code",
   "execution_count": null,
   "id": "b436c576",
   "metadata": {},
   "outputs": [],
   "source": [
    "crosstab_table=pd.crosstab(index=data.category, columns='count', normalize=True).sort_values(\"count\", ascending=False)\n",
    "crosstab_table"
   ]
  },
  {
   "cell_type": "markdown",
   "id": "4a70250f",
   "metadata": {},
   "source": [
    "2. Visualizations:\n",
    "\n",
    "* Display the distribution of products across different categories using a bar chart. If you face problems understanding the chart, do it for a subset of top categories.\n",
    "\n",
    "* For a subset of top categories, visualize their proportions using a pie chart. Does any category dominate the listings?\n",
    "    - Yes, the Sports & Outdoors, category dominated the listings with a 34.22% of the whole category and 91.6% of  the top 5 most listed products"
   ]
  },
  {
   "cell_type": "code",
   "execution_count": null,
   "id": "90f4cf95",
   "metadata": {},
   "outputs": [],
   "source": [
    "visual=category_counts.head()\n",
    "\n",
    "fig,axes=plt.subplots()\n",
    "sns.barplot(y=visual.index, x=visual.values, palette=\"Set3\")\n",
    "\n",
    "axes.set_xlabel(\"Frequency\")"
   ]
  },
  {
   "cell_type": "code",
   "execution_count": null,
   "id": "d154de12",
   "metadata": {},
   "outputs": [],
   "source": [
    "crosstab_table.head().plot.pie(autopct='%1.1f%%', startangle=90, colors=sns.color_palette(\"Set3\"), subplots=True)\n",
    "plt.legend(loc=\"lower right\", bbox_to_anchor=(2, 0.5))"
   ]
  },
  {
   "cell_type": "markdown",
   "id": "e7ca1f04",
   "metadata": {},
   "source": [
    "# Part 2: Delving into Product Pricing\n",
    "Business Question: How are products priced on Amazon UK, and are there specific price points or ranges that are more common?"
   ]
  },
  {
   "cell_type": "markdown",
   "id": "ec19cdc6",
   "metadata": {},
   "source": [
    "1. Measures of Centrality:\n",
    "\n",
    "* Calculate the mean, median, and mode for the price of products.\n",
    "* What's the average price point of products listed? How does this compare with the most common price point (mode)?\n",
    "    - The average price of all amazon's products is 89,24GBP. And compareting it with the mode, we can see that it is quite higher than. Therefore must be some products with a bigger prices that are affecting the mean."
   ]
  },
  {
   "cell_type": "code",
   "execution_count": null,
   "id": "38576406",
   "metadata": {},
   "outputs": [],
   "source": [
    "mean_price = data['price'].mean()\n",
    "median_price = data['price'].median()\n",
    "mode_price = data['price'].mode()[0]\n",
    "\n",
    "mean_price, median_price, mode_price"
   ]
  },
  {
   "cell_type": "markdown",
   "id": "36af2a53",
   "metadata": {},
   "source": [
    "2. Measures of Dispersion:\n",
    "\n",
    "* Determine the variance, standard deviation, range, and interquartile range for product price.\n",
    "* How varied are the product prices? Are there any indicators of a significant spread in prices?\n",
    "    - The prices are quite spread across of the all products. We can see the there are huge prices as 100kGBP, but also min prices as 0. Which leads us to think that might be missing information that need to be checked.\n",
    "    - In general (without considering the zero prices) the prices are not that higher, the 75% are lower than 46GBP "
   ]
  },
  {
   "cell_type": "code",
   "execution_count": null,
   "id": "1380207b",
   "metadata": {},
   "outputs": [],
   "source": [
    "variance_price = data['price'].var()\n",
    "std_dev_price = data['price'].std()\n",
    "min_price = data['price'].min()\n",
    "max_price = data['price'].max()\n",
    "range_price = max_price - min_price\n",
    "quantiles_price = data['price'].quantile([0.25, 0.5, 0.75])\n",
    "\n",
    "print(variance_price, \"\\n\" ,std_dev_price, \"\\n\" ,min_price, \"\\n\" ,max_price, \"\\n\" ,range_price, \"\\n\" ,quantiles_price)"
   ]
  },
  {
   "cell_type": "markdown",
   "id": "6056253d",
   "metadata": {},
   "source": [
    "3. Visualizations:\n",
    "\n",
    "* Is there a specific price range where most products fall? Plot a histogram to visualize the distribution of product prices. If its hard to read these diagrams, think why this is, and explain how it could be solved..\n",
    "    - most of the prices fall in zero. Which as mentioned before, need to be checked.\n",
    "    - Because the amount of data and the range of difference prices, this kind of diagrams does not work. Could be better to check what are those zero prices, and visualize the prices for each category of products instead of the whole range of products\n",
    "* Are there products that are priced significantly higher than the rest? Use a box plot to showcase the spread and potential outliers in product pricing.\n",
    "    - Indeed, there are prices a 100kGBP and around 80kGBP"
   ]
  },
  {
   "cell_type": "code",
   "execution_count": null,
   "id": "1e6cafe5",
   "metadata": {},
   "outputs": [],
   "source": [
    "sns.histplot(data['price'], kde=True, bins=1000, color=\"salmon\");"
   ]
  },
  {
   "cell_type": "code",
   "execution_count": null,
   "id": "530eeb2a",
   "metadata": {},
   "outputs": [],
   "source": [
    "sns.boxplot(data = data['price'], color=\"lightblue\");"
   ]
  },
  {
   "cell_type": "markdown",
   "id": "88c84518",
   "metadata": {},
   "source": [
    "# Part 3: Unpacking Product Ratings\n",
    "Business Question: How do customers rate products on Amazon UK, and are there any patterns or tendencies in the ratings?"
   ]
  },
  {
   "cell_type": "markdown",
   "id": "6e856082",
   "metadata": {},
   "source": [
    "1. Measures of Centrality:\n",
    "\n",
    "* Calculate the mean, median, and mode for the rating of products.\n",
    "* How do customers generally rate products? Is there a common trend?\n",
    "    - Because the most common trend is zero so no starts (perhaps, customers do not rate the product bought), the rest of the centrality measures are affected\n",
    "    "
   ]
  },
  {
   "cell_type": "code",
   "execution_count": null,
   "id": "8926a07e",
   "metadata": {},
   "outputs": [],
   "source": [
    "mean_price = data['stars'].mean()\n",
    "median_price = data['stars'].median()\n",
    "mode_price = data['stars'].mode()[0]\n",
    "\n",
    "mean_price, median_price, mode_price"
   ]
  },
  {
   "cell_type": "markdown",
   "id": "4e4138ca",
   "metadata": {},
   "source": [
    "2. Measures of Dispersion:\n",
    "\n",
    "* Determine the variance, standard deviation, and interquartile range for product rating.\n",
    "* Are the ratings consistent, or is there a wide variation in customer feedback?\n",
    "    - There are not consistents, looks like they do not have low rating or as mentioned there is any customer feedback. In general, for the few ratings that are not zero, the 75% or stars given are equal or less than 4.4 stars\n"
   ]
  },
  {
   "cell_type": "code",
   "execution_count": null,
   "id": "7309e23a",
   "metadata": {},
   "outputs": [],
   "source": [
    "variance_price = data['stars'].var()\n",
    "std_dev_price = data['stars'].std()\n",
    "quantiles_price = data['stars'].quantile([0.25, 0.5, 0.75])\n",
    "\n",
    "print(variance_price, \"\\n\" ,std_dev_price, \"\\n\" ,quantiles_price)"
   ]
  },
  {
   "cell_type": "markdown",
   "id": "a095a711",
   "metadata": {},
   "source": [
    "3. Shape of the Distribution:\n",
    "\n",
    "* Calculate the skewness and kurtosis for the rating column.\n",
    "* Are the ratings normally distributed, or do they lean towards higher or lower values?\n",
    "    -Tthe kurtosis is negative and the distribution es more spread out in the left and right tails, for this reason they are more peaked. So the tails are thing. This is because the zero rate or none rate. About the skewness, it is moving more to 1, what indicates that the tail is leanign more to righ, even that there is more zero values(left) but we can see that also there is concentration in the bin from 3 to 4.\n"
   ]
  },
  {
   "cell_type": "code",
   "execution_count": null,
   "id": "eb66fc43",
   "metadata": {},
   "outputs": [],
   "source": [
    "skewness_= data['stars'].skew()\n",
    "kurtosis_= data['stars'].kurtosis()\n",
    "\n",
    "skewness_, kurtosis_"
   ]
  },
  {
   "cell_type": "markdown",
   "id": "566f514e",
   "metadata": {},
   "source": [
    "4. Visualizations:\n",
    "\n",
    "* Plot a histogram to visualize the distribution of product ratings. Is there a specific rating that is more common?\n",
    "    - Zero or not ratings"
   ]
  },
  {
   "cell_type": "code",
   "execution_count": null,
   "id": "dbba8caf",
   "metadata": {},
   "outputs": [],
   "source": [
    "sns.histplot(data['stars'], kde=True, bins=5, color=\"salmon\");"
   ]
  }
 ],
 "metadata": {
  "kernelspec": {
   "display_name": "Python 3 (ipykernel)",
   "language": "python",
   "name": "python3"
  },
  "language_info": {
   "codemirror_mode": {
    "name": "ipython",
    "version": 3
   },
   "file_extension": ".py",
   "mimetype": "text/x-python",
   "name": "python",
   "nbconvert_exporter": "python",
   "pygments_lexer": "ipython3",
   "version": "3.11.5"
  }
 },
 "nbformat": 4,
 "nbformat_minor": 5
}
